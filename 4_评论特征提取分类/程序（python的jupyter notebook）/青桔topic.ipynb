{
 "cells": [
  {
   "cell_type": "code",
   "execution_count": 1,
   "id": "6331b494",
   "metadata": {},
   "outputs": [],
   "source": [
    "# -*- coding: utf-8 -*-\n",
    "import os\n",
    "import numpy as np\n",
    "import pandas as pd\n",
    "import matplotlib.pyplot as plt\n",
    "import time\n",
    "import warnings\n",
    "warnings.filterwarnings('ignore')\n",
    "import tomotopy as tp\n",
    "import re\n",
    "import jieba\n",
    "from tqdm.notebook import tqdm\n",
    "import jieba.posseg as pseg\n",
    "from gensim import corpora, models\n",
    "\n",
    "import logging\n",
    "logging.basicConfig(format='%(asctime)s : %(levelname)s : %(message)s', level=logging.INFO)"
   ]
  },
  {
   "cell_type": "code",
   "execution_count": 2,
   "id": "4336cb90",
   "metadata": {},
   "outputs": [
    {
     "data": {
      "text/html": [
       "<div>\n",
       "<style scoped>\n",
       "    .dataframe tbody tr th:only-of-type {\n",
       "        vertical-align: middle;\n",
       "    }\n",
       "\n",
       "    .dataframe tbody tr th {\n",
       "        vertical-align: top;\n",
       "    }\n",
       "\n",
       "    .dataframe thead th {\n",
       "        text-align: right;\n",
       "    }\n",
       "</style>\n",
       "<table border=\"1\" class=\"dataframe\">\n",
       "  <thead>\n",
       "    <tr style=\"text-align: right;\">\n",
       "      <th></th>\n",
       "      <th>id</th>\n",
       "      <th>bid</th>\n",
       "      <th>user_id</th>\n",
       "      <th>用户昵称</th>\n",
       "      <th>微博正文</th>\n",
       "      <th>头条文章url</th>\n",
       "      <th>发布位置</th>\n",
       "      <th>艾特用户</th>\n",
       "      <th>话题</th>\n",
       "      <th>转发数</th>\n",
       "      <th>评论数</th>\n",
       "      <th>点赞数</th>\n",
       "      <th>发布时间</th>\n",
       "      <th>发布工具</th>\n",
       "      <th>微博图片url</th>\n",
       "      <th>微博视频url</th>\n",
       "      <th>retweet_id</th>\n",
       "    </tr>\n",
       "  </thead>\n",
       "  <tbody>\n",
       "    <tr>\n",
       "      <th>0</th>\n",
       "      <td>4357472434793713</td>\n",
       "      <td>Ho77tk73X</td>\n",
       "      <td>5781042875</td>\n",
       "      <td>楠枫大哥</td>\n",
       "      <td>#青桔单车#请问青桔单车福州公司的🈶人在吗？你们该我的钱都快一年了，还要拖到什么时候才给我？</td>\n",
       "      <td>NaN</td>\n",
       "      <td>NaN</td>\n",
       "      <td>NaN</td>\n",
       "      <td>青桔单车</td>\n",
       "      <td>0</td>\n",
       "      <td>0</td>\n",
       "      <td>0</td>\n",
       "      <td>2019-04-04 21:50</td>\n",
       "      <td>金立S10L四摄拍照更美</td>\n",
       "      <td>NaN</td>\n",
       "      <td>NaN</td>\n",
       "      <td>NaN</td>\n",
       "    </tr>\n",
       "    <tr>\n",
       "      <th>1</th>\n",
       "      <td>4357469905705742</td>\n",
       "      <td>Ho73onWk6</td>\n",
       "      <td>5781042875</td>\n",
       "      <td>楠枫大哥</td>\n",
       "      <td>#青桔单车#福州公司？？</td>\n",
       "      <td>NaN</td>\n",
       "      <td>NaN</td>\n",
       "      <td>NaN</td>\n",
       "      <td>青桔单车</td>\n",
       "      <td>0</td>\n",
       "      <td>0</td>\n",
       "      <td>0</td>\n",
       "      <td>2019-04-04 21:40</td>\n",
       "      <td>金立S10L四摄拍照更美</td>\n",
       "      <td>NaN</td>\n",
       "      <td>NaN</td>\n",
       "      <td>NaN</td>\n",
       "    </tr>\n",
       "    <tr>\n",
       "      <th>2</th>\n",
       "      <td>4357320915557241</td>\n",
       "      <td>Ho3b5njGV</td>\n",
       "      <td>5942646298</td>\n",
       "      <td>Seker·Wo·Emma</td>\n",
       "      <td>群众A:\"你有没有发现四种共享单车的颜色和宝可梦初代四色一样？\"群众B:\"有吗？但摩拜是橙色...</td>\n",
       "      <td>NaN</td>\n",
       "      <td>合肥·安徽大学</td>\n",
       "      <td>NaN</td>\n",
       "      <td>拟人,共享单车,青桔单车</td>\n",
       "      <td>0</td>\n",
       "      <td>2</td>\n",
       "      <td>2</td>\n",
       "      <td>2019-04-04 11:48</td>\n",
       "      <td>vivo X20全面屏手机</td>\n",
       "      <td>['https://wx3.sinaimg.cn/large/006uaJLQly1g1qg...</td>\n",
       "      <td>NaN</td>\n",
       "      <td>NaN</td>\n",
       "    </tr>\n",
       "    <tr>\n",
       "      <th>3</th>\n",
       "      <td>4356648560133179</td>\n",
       "      <td>HnLGE0yE3</td>\n",
       "      <td>6393826525</td>\n",
       "      <td>健康小册</td>\n",
       "      <td>辣鸡青桔，可以滚出这个行业了#共享单车##单车##青桔单车#</td>\n",
       "      <td>NaN</td>\n",
       "      <td>NaN</td>\n",
       "      <td>NaN</td>\n",
       "      <td>共享单车,单车,青桔单车</td>\n",
       "      <td>0</td>\n",
       "      <td>1</td>\n",
       "      <td>1</td>\n",
       "      <td>2019-04-02 15:17</td>\n",
       "      <td>iPhone客户端</td>\n",
       "      <td>['https://wx3.sinaimg.cn/large/006YHQmhgy1g1ob...</td>\n",
       "      <td>NaN</td>\n",
       "      <td>NaN</td>\n",
       "    </tr>\n",
       "    <tr>\n",
       "      <th>4</th>\n",
       "      <td>4778546263756886</td>\n",
       "      <td>LwXlwfLkW</td>\n",
       "      <td>6326056439</td>\n",
       "      <td>sk8_heidong</td>\n",
       "      <td>#青桔单车#小程序崩了吗？</td>\n",
       "      <td>NaN</td>\n",
       "      <td>NaN</td>\n",
       "      <td>NaN</td>\n",
       "      <td>青桔单车</td>\n",
       "      <td>0</td>\n",
       "      <td>2</td>\n",
       "      <td>0</td>\n",
       "      <td>2022-06-09 20:27</td>\n",
       "      <td>iPhone客户端</td>\n",
       "      <td>NaN</td>\n",
       "      <td>NaN</td>\n",
       "      <td>NaN</td>\n",
       "    </tr>\n",
       "  </tbody>\n",
       "</table>\n",
       "</div>"
      ],
      "text/plain": [
       "                 id        bid     user_id           用户昵称  \\\n",
       "0  4357472434793713  Ho77tk73X  5781042875           楠枫大哥   \n",
       "1  4357469905705742  Ho73onWk6  5781042875           楠枫大哥   \n",
       "2  4357320915557241  Ho3b5njGV  5942646298  Seker·Wo·Emma   \n",
       "3  4356648560133179  HnLGE0yE3  6393826525           健康小册   \n",
       "4  4778546263756886  LwXlwfLkW  6326056439    sk8_heidong   \n",
       "\n",
       "                                                微博正文 头条文章url     发布位置 艾特用户  \\\n",
       "0     #青桔单车#请问青桔单车福州公司的🈶人在吗？你们该我的钱都快一年了，还要拖到什么时候才给我？     NaN      NaN  NaN   \n",
       "1                                       #青桔单车#福州公司？？     NaN      NaN  NaN   \n",
       "2  群众A:\"你有没有发现四种共享单车的颜色和宝可梦初代四色一样？\"群众B:\"有吗？但摩拜是橙色...     NaN  合肥·安徽大学  NaN   \n",
       "3                     辣鸡青桔，可以滚出这个行业了#共享单车##单车##青桔单车#     NaN      NaN  NaN   \n",
       "4                                      #青桔单车#小程序崩了吗？     NaN      NaN  NaN   \n",
       "\n",
       "             话题  转发数  评论数  点赞数              发布时间           发布工具  \\\n",
       "0          青桔单车    0    0    0  2019-04-04 21:50   金立S10L四摄拍照更美   \n",
       "1          青桔单车    0    0    0  2019-04-04 21:40   金立S10L四摄拍照更美   \n",
       "2  拟人,共享单车,青桔单车    0    2    2  2019-04-04 11:48  vivo X20全面屏手机   \n",
       "3  共享单车,单车,青桔单车    0    1    1  2019-04-02 15:17      iPhone客户端   \n",
       "4          青桔单车    0    2    0  2022-06-09 20:27      iPhone客户端   \n",
       "\n",
       "                                             微博图片url 微博视频url  retweet_id  \n",
       "0                                                NaN     NaN         NaN  \n",
       "1                                                NaN     NaN         NaN  \n",
       "2  ['https://wx3.sinaimg.cn/large/006uaJLQly1g1qg...     NaN         NaN  \n",
       "3  ['https://wx3.sinaimg.cn/large/006YHQmhgy1g1ob...     NaN         NaN  \n",
       "4                                                NaN     NaN         NaN  "
      ]
     },
     "execution_count": 2,
     "metadata": {},
     "output_type": "execute_result"
    }
   ],
   "source": [
    "#文档\n",
    "data=pd.read_csv(r'data/青桔单车.csv')\n",
    "data.head()"
   ]
  },
  {
   "cell_type": "code",
   "execution_count": 3,
   "id": "c9d2e5f9",
   "metadata": {},
   "outputs": [
    {
     "data": {
      "text/plain": [
       "id              0\n",
       "bid             0\n",
       "user_id         0\n",
       "用户昵称            0\n",
       "微博正文            0\n",
       "头条文章url       795\n",
       "发布位置          605\n",
       "艾特用户          603\n",
       "话题              2\n",
       "转发数             0\n",
       "评论数             0\n",
       "点赞数             0\n",
       "发布时间            0\n",
       "发布工具            8\n",
       "微博图片url       387\n",
       "微博视频url       756\n",
       "retweet_id    782\n",
       "dtype: int64"
      ]
     },
     "execution_count": 3,
     "metadata": {},
     "output_type": "execute_result"
    }
   ],
   "source": [
    "data.isnull().sum()"
   ]
  },
  {
   "cell_type": "code",
   "execution_count": 4,
   "id": "ff66640d",
   "metadata": {},
   "outputs": [],
   "source": [
    "# 只保留中文\n",
    "data['微博正文']=data['微博正文'].astype('str')\n",
    "data['content'] = data['微博正文'].str.replace(\"[^\\u4e00-\\u9fa5]\", \"\")"
   ]
  },
  {
   "cell_type": "code",
   "execution_count": 5,
   "id": "75bd224f",
   "metadata": {},
   "outputs": [
    {
     "name": "stderr",
     "output_type": "stream",
     "text": [
      "Building prefix dict from the default dictionary ...\n",
      "2022-06-15 15:39:48,028 : DEBUG : Building prefix dict from the default dictionary ...\n",
      "Loading model from cache C:\\Users\\13391\\AppData\\Local\\Temp\\jieba.cache\n",
      "2022-06-15 15:39:48,030 : DEBUG : Loading model from cache C:\\Users\\13391\\AppData\\Local\\Temp\\jieba.cache\n",
      "Loading model cost 0.415 seconds.\n",
      "2022-06-15 15:39:48,444 : DEBUG : Loading model cost 0.415 seconds.\n",
      "Prefix dict has been built successfully.\n",
      "2022-06-15 15:39:48,445 : DEBUG : Prefix dict has been built successfully.\n"
     ]
    },
    {
     "name": "stdout",
     "output_type": "stream",
     "text": [
      "删除停用词和分词成功！！！\n"
     ]
    },
    {
     "data": {
      "text/html": [
       "<div>\n",
       "<style scoped>\n",
       "    .dataframe tbody tr th:only-of-type {\n",
       "        vertical-align: middle;\n",
       "    }\n",
       "\n",
       "    .dataframe tbody tr th {\n",
       "        vertical-align: top;\n",
       "    }\n",
       "\n",
       "    .dataframe thead th {\n",
       "        text-align: right;\n",
       "    }\n",
       "</style>\n",
       "<table border=\"1\" class=\"dataframe\">\n",
       "  <thead>\n",
       "    <tr style=\"text-align: right;\">\n",
       "      <th></th>\n",
       "      <th>id</th>\n",
       "      <th>bid</th>\n",
       "      <th>user_id</th>\n",
       "      <th>用户昵称</th>\n",
       "      <th>微博正文</th>\n",
       "      <th>头条文章url</th>\n",
       "      <th>发布位置</th>\n",
       "      <th>艾特用户</th>\n",
       "      <th>话题</th>\n",
       "      <th>转发数</th>\n",
       "      <th>评论数</th>\n",
       "      <th>点赞数</th>\n",
       "      <th>发布时间</th>\n",
       "      <th>发布工具</th>\n",
       "      <th>微博图片url</th>\n",
       "      <th>微博视频url</th>\n",
       "      <th>retweet_id</th>\n",
       "      <th>content</th>\n",
       "      <th>words</th>\n",
       "    </tr>\n",
       "  </thead>\n",
       "  <tbody>\n",
       "    <tr>\n",
       "      <th>0</th>\n",
       "      <td>4357472434793713</td>\n",
       "      <td>Ho77tk73X</td>\n",
       "      <td>5781042875</td>\n",
       "      <td>楠枫大哥</td>\n",
       "      <td>#青桔单车#请问青桔单车福州公司的🈶人在吗？你们该我的钱都快一年了，还要拖到什么时候才给我？</td>\n",
       "      <td>NaN</td>\n",
       "      <td>NaN</td>\n",
       "      <td>NaN</td>\n",
       "      <td>青桔单车</td>\n",
       "      <td>0</td>\n",
       "      <td>0</td>\n",
       "      <td>0</td>\n",
       "      <td>2019-04-04 21:50</td>\n",
       "      <td>金立S10L四摄拍照更美</td>\n",
       "      <td>NaN</td>\n",
       "      <td>NaN</td>\n",
       "      <td>NaN</td>\n",
       "      <td>青桔单车请问青桔单车福州公司的人在吗你们该我的钱都快一年了还要拖到什么时候才给我</td>\n",
       "      <td>[青桔, 单车, 请问, 青桔, 单车, 福州, 公司, 一年]</td>\n",
       "    </tr>\n",
       "  </tbody>\n",
       "</table>\n",
       "</div>"
      ],
      "text/plain": [
       "                 id        bid     user_id  用户昵称  \\\n",
       "0  4357472434793713  Ho77tk73X  5781042875  楠枫大哥   \n",
       "\n",
       "                                             微博正文 头条文章url 发布位置 艾特用户    话题  \\\n",
       "0  #青桔单车#请问青桔单车福州公司的🈶人在吗？你们该我的钱都快一年了，还要拖到什么时候才给我？     NaN  NaN  NaN  青桔单车   \n",
       "\n",
       "   转发数  评论数  点赞数              发布时间          发布工具 微博图片url 微博视频url  retweet_id  \\\n",
       "0    0    0    0  2019-04-04 21:50  金立S10L四摄拍照更美     NaN     NaN         NaN   \n",
       "\n",
       "                                    content                             words  \n",
       "0  青桔单车请问青桔单车福州公司的人在吗你们该我的钱都快一年了还要拖到什么时候才给我  [青桔, 单车, 请问, 青桔, 单车, 福州, 公司, 一年]  "
      ]
     },
     "execution_count": 5,
     "metadata": {},
     "output_type": "execute_result"
    }
   ],
   "source": [
    "# 移除常用词以及分词\n",
    "stoplist = [i.strip() for i in open(r'data/stopwords.txt',encoding='utf-8').readlines()]\n",
    "def segment(text):\n",
    "    words = jieba.cut(text)\n",
    "    words = [w for w in words if w not in stoplist if len(w)>1]\n",
    "    return words\n",
    "\n",
    "data['words'] = data['content'].apply(segment)\n",
    "print(\"二次删除停用词和分词成功！！！\")\n",
    "data.head(1)"
   ]
  },
  {
   "cell_type": "code",
   "execution_count": 6,
   "id": "fe54ad6b",
   "metadata": {},
   "outputs": [
    {
     "data": {
      "image/png": "[encoded data removed]",
      "text/plain": [
       "<Figure size 432x288 with 1 Axes>"
      ]
     },
     "metadata": {
      "needs_background": "light"
     },
     "output_type": "display_data"
    }
   ],
   "source": [
    "#查询主题个数比较合适\n",
    "def find_k(docs, min_k, max_k, min_df):\n",
    "    #min_df 词语最少出现在2个文档中\n",
    "    import matplotlib.pyplot as plt\n",
    "    scores = []\n",
    "    for k in range(min_k, max_k):\n",
    "        #seed随机种子，保证运行的结果一样\n",
    "        mdl = tp.LDAModel(min_df=min_df, k=k,seed=555)\n",
    "        for words in docs:\n",
    "            if words:\n",
    "                mdl.add_doc(words)\n",
    "        mdl.train(20)\n",
    "        coh = tp.coherence.Coherence(mdl)\n",
    "        scores.append(coh.get_score())\n",
    "\n",
    "    #x = list(range(min_k, max_k - 1))  # 区间最右侧的值。注意：不能大于max_k\n",
    "    #print(x)\n",
    "    #print()\n",
    "    plt.plot(range(min_k, max_k), scores)\n",
    "    plt.xlabel(\"number of topics\")\n",
    "    plt.ylabel(\"coherence\")\n",
    "    plt.show()    \n",
    "    \n",
    "find_k(docs=data['words'], min_k=8, max_k=30, min_df=2)"
   ]
  },
  {
   "cell_type": "code",
   "execution_count": 7,
   "id": "78ed47b7",
   "metadata": {},
   "outputs": [],
   "source": [
    "from sklearn.feature_extraction.text import TfidfVectorizer,CountVectorizer\n",
    "# 将文本中的词语转换为词频矩阵\n",
    "cleanchap = [\" \".join(w) for w in data['words']]\n",
    "\n",
    "Tfidfvectorizer =TfidfVectorizer(max_df=0.4, \n",
    "                             min_df=2, \n",
    "                             max_features=2000,stop_words=stoplist) #创建词袋数据结构\n",
    "data_vectorized = Tfidfvectorizer.fit_transform(cleanchap)"
   ]
  },
  {
   "cell_type": "code",
   "execution_count": 8,
   "id": "d470481c",
   "metadata": {},
   "outputs": [],
   "source": [
    "pd.DataFrame(data_vectorized.toarray(),columns=Tfidfvectorizer.get_feature_names()).to_csv('data/青桔单车_Tf-idf.csv',encoding='utf_8_sig')"
   ]
  },
  {
   "cell_type": "code",
   "execution_count": 9,
   "id": "b199aeeb",
   "metadata": {},
   "outputs": [
    {
     "data": {
      "text/plain": [
       "LatentDirichletAllocation(n_components=8)"
      ]
     },
     "execution_count": 9,
     "metadata": {},
     "output_type": "execute_result"
    }
   ],
   "source": [
    "# 设定LDA模型\n",
    "from sklearn.decomposition import LatentDirichletAllocation\n",
    "n_topics=8\n",
    "ldamodel = LatentDirichletAllocation(n_components = n_topics)\n",
    "ldamodel.fit(data_vectorized)"
   ]
  },
  {
   "cell_type": "code",
   "execution_count": 10,
   "id": "d8120678",
   "metadata": {},
   "outputs": [
    {
     "name": "stdout",
     "output_type": "stream",
     "text": [
      "Topic #0:\n",
      "停车 骑行 官方 垃圾 调度 滴滴 地方 真的 骑车 微博 分钟 客服\n",
      "Topic #1:\n",
      "滴滴 自行车 自动 电动车 充值 卡天 刘昊然 通用 全国 迟到 骑行 一辆\n",
      "Topic #2:\n",
      "哈啰 共享 美团 滴滴 骑行 官方 微博 请问 出行 乱收费 垃圾 客服\n",
      "Topic #3:\n",
      "垃圾 吐槽 共享 滴滴 骑车 划算 分钟 城市 车点 破车 朋友 自行车\n",
      "Topic #4:\n",
      "共享 手机 刹车 电单车 为啥 每次 真的 代言 骑车 停车 骑单车 刘昊然\n",
      "Topic #5:\n",
      "微博 官方 北京 投放 刘昊然 共享 滴滴 视频 陈情 停车 车辆 疫情\n",
      "Topic #6:\n",
      "颜色 哈罗 商标 共享 真的 锁上 定位 郑州 半天 新车 特别 电单车\n",
      "Topic #7:\n",
      "共享 链接 网页 拼团 骑行 微博 视频 有人 官方 难骑 滴滴 分钟\n",
      "\n"
     ]
    }
   ],
   "source": [
    "# 主题词打印函数\n",
    "def print_top_words(model, feature_names, n_top_words):\n",
    "    for topic_idx, topic in enumerate(model.components_):\n",
    "        print(\"Topic #%d:\" % topic_idx)\n",
    "        print(\" \".join([feature_names[i] for i in topic.argsort()[:-n_top_words - 1:-1]]))\n",
    "    print()\n",
    "n_top_words = 12\n",
    "tf_feature_names = Tfidfvectorizer.get_feature_names()\n",
    "print_top_words(ldamodel, tf_feature_names, n_top_words)"
   ]
  },
  {
   "cell_type": "code",
   "execution_count": 11,
   "id": "5e57facb",
   "metadata": {},
   "outputs": [
    {
     "data": {
      "text/plain": [
       "['data/青桔model_1.pkl']"
      ]
     },
     "execution_count": 11,
     "metadata": {},
     "output_type": "execute_result"
    }
   ],
   "source": [
    "import joblib\n",
    "joblib.dump(ldamodel, r'data/青桔model_1.pkl')"
   ]
  },
  {
   "cell_type": "code",
   "execution_count": 12,
   "id": "3402056d",
   "metadata": {},
   "outputs": [],
   "source": [
    "import numpy as np\n",
    "\n",
    "# 构建文档-词频矩阵\n",
    "lda_output = ldamodel.transform(data_vectorized)\n",
    "# 列名\n",
    "topicnames = [\"Topic\" + str(i) \n",
    "              for i in range(ldamodel.n_components)]\n",
    "# 行索引名\n",
    "#docnames = [\"Doc\" + str(i) for i in range(len(data.words))]\n",
    "\n",
    "# 转化为pd.DataFrame\n",
    "df_document_topic = pd.DataFrame(np.round(lda_output, 4), \n",
    "                                 columns=topicnames, \n",
    "                                 index=data['bid'])\n",
    "\n",
    "# Get dominant topic for each document\n",
    "dominant_topic = np.argmax(df_document_topic.values, axis=1)\n",
    "df_document_topic['dominant_topic'] = dominant_topic"
   ]
  },
  {
   "cell_type": "code",
   "execution_count": 13,
   "id": "0b18a93c",
   "metadata": {},
   "outputs": [
    {
     "data": {
      "text/html": [
       "<div>\n",
       "<style scoped>\n",
       "    .dataframe tbody tr th:only-of-type {\n",
       "        vertical-align: middle;\n",
       "    }\n",
       "\n",
       "    .dataframe tbody tr th {\n",
       "        vertical-align: top;\n",
       "    }\n",
       "\n",
       "    .dataframe thead th {\n",
       "        text-align: right;\n",
       "    }\n",
       "</style>\n",
       "<table border=\"1\" class=\"dataframe\">\n",
       "  <thead>\n",
       "    <tr style=\"text-align: right;\">\n",
       "      <th></th>\n",
       "      <th>Topic0</th>\n",
       "      <th>Topic1</th>\n",
       "      <th>Topic2</th>\n",
       "      <th>Topic3</th>\n",
       "      <th>Topic4</th>\n",
       "      <th>Topic5</th>\n",
       "      <th>Topic6</th>\n",
       "      <th>Topic7</th>\n",
       "      <th>dominant_topic</th>\n",
       "    </tr>\n",
       "    <tr>\n",
       "      <th>bid</th>\n",
       "      <th></th>\n",
       "      <th></th>\n",
       "      <th></th>\n",
       "      <th></th>\n",
       "      <th></th>\n",
       "      <th></th>\n",
       "      <th></th>\n",
       "      <th></th>\n",
       "      <th></th>\n",
       "    </tr>\n",
       "  </thead>\n",
       "  <tbody>\n",
       "    <tr>\n",
       "      <th>Ho77tk73X</th>\n",
       "      <td>0.0418</td>\n",
       "      <td>0.0418</td>\n",
       "      <td>0.7070</td>\n",
       "      <td>0.0418</td>\n",
       "      <td>0.0420</td>\n",
       "      <td>0.0418</td>\n",
       "      <td>0.0418</td>\n",
       "      <td>0.0418</td>\n",
       "      <td>2</td>\n",
       "    </tr>\n",
       "    <tr>\n",
       "      <th>Ho73onWk6</th>\n",
       "      <td>0.0521</td>\n",
       "      <td>0.0521</td>\n",
       "      <td>0.0521</td>\n",
       "      <td>0.0521</td>\n",
       "      <td>0.6355</td>\n",
       "      <td>0.0521</td>\n",
       "      <td>0.0521</td>\n",
       "      <td>0.0521</td>\n",
       "      <td>4</td>\n",
       "    </tr>\n",
       "    <tr>\n",
       "      <th>Ho3b5njGV</th>\n",
       "      <td>0.0348</td>\n",
       "      <td>0.0348</td>\n",
       "      <td>0.0348</td>\n",
       "      <td>0.0348</td>\n",
       "      <td>0.7561</td>\n",
       "      <td>0.0348</td>\n",
       "      <td>0.0350</td>\n",
       "      <td>0.0348</td>\n",
       "      <td>4</td>\n",
       "    </tr>\n",
       "    <tr>\n",
       "      <th>HnLGE0yE3</th>\n",
       "      <td>0.0470</td>\n",
       "      <td>0.0469</td>\n",
       "      <td>0.0469</td>\n",
       "      <td>0.0469</td>\n",
       "      <td>0.0469</td>\n",
       "      <td>0.0469</td>\n",
       "      <td>0.0469</td>\n",
       "      <td>0.6713</td>\n",
       "      <td>7</td>\n",
       "    </tr>\n",
       "    <tr>\n",
       "      <th>LwXlwfLkW</th>\n",
       "      <td>0.0625</td>\n",
       "      <td>0.0625</td>\n",
       "      <td>0.0625</td>\n",
       "      <td>0.5623</td>\n",
       "      <td>0.0625</td>\n",
       "      <td>0.0626</td>\n",
       "      <td>0.0625</td>\n",
       "      <td>0.0626</td>\n",
       "      <td>3</td>\n",
       "    </tr>\n",
       "  </tbody>\n",
       "</table>\n",
       "</div>"
      ],
      "text/plain": [
       "           Topic0  Topic1  Topic2  Topic3  Topic4  Topic5  Topic6  Topic7  \\\n",
       "bid                                                                         \n",
       "Ho77tk73X  0.0418  0.0418  0.7070  0.0418  0.0420  0.0418  0.0418  0.0418   \n",
       "Ho73onWk6  0.0521  0.0521  0.0521  0.0521  0.6355  0.0521  0.0521  0.0521   \n",
       "Ho3b5njGV  0.0348  0.0348  0.0348  0.0348  0.7561  0.0348  0.0350  0.0348   \n",
       "HnLGE0yE3  0.0470  0.0469  0.0469  0.0469  0.0469  0.0469  0.0469  0.6713   \n",
       "LwXlwfLkW  0.0625  0.0625  0.0625  0.5623  0.0625  0.0626  0.0625  0.0626   \n",
       "\n",
       "           dominant_topic  \n",
       "bid                        \n",
       "Ho77tk73X               2  \n",
       "Ho73onWk6               4  \n",
       "Ho3b5njGV               4  \n",
       "HnLGE0yE3               7  \n",
       "LwXlwfLkW               3  "
      ]
     },
     "execution_count": 13,
     "metadata": {},
     "output_type": "execute_result"
    }
   ],
   "source": [
    "df_document_topic.head()"
   ]
  },
  {
   "cell_type": "code",
   "execution_count": 14,
   "id": "74b6a012",
   "metadata": {},
   "outputs": [],
   "source": [
    "result_data=pd.merge(data,df_document_topic,on='bid')"
   ]
  },
  {
   "cell_type": "code",
   "execution_count": 15,
   "id": "0f16cd7f",
   "metadata": {},
   "outputs": [
    {
     "data": {
      "image/png": "[encoded data removed]",
      "text/plain": [
       "<Figure size 1600x800 with 2 Axes>"
      ]
     },
     "metadata": {
      "needs_background": "light"
     },
     "output_type": "display_data"
    }
   ],
   "source": [
    "# 主题分布图\n",
    "import seaborn as sns \n",
    "result_type_counts = result_data['dominant_topic'].value_counts()\n",
    "fig,axes = plt.subplots(1,2,figsize=(16,8),dpi=100)\n",
    "axes[0].pie(result_type_counts.values,autopct=\"%.2f%%\",labels=result_type_counts.index)\n",
    "sns.barplot(result_type_counts.index,result_type_counts.values)\n",
    "plt.savefig(r'data/青桔单车_主题分布图.png')\n",
    "plt.tight_layout()"
   ]
  },
  {
   "cell_type": "code",
   "execution_count": 16,
   "id": "728dba28",
   "metadata": {},
   "outputs": [
    {
     "data": {
      "text/html": [
       "<div>\n",
       "<style scoped>\n",
       "    .dataframe tbody tr th:only-of-type {\n",
       "        vertical-align: middle;\n",
       "    }\n",
       "\n",
       "    .dataframe tbody tr th {\n",
       "        vertical-align: top;\n",
       "    }\n",
       "\n",
       "    .dataframe thead th {\n",
       "        text-align: right;\n",
       "    }\n",
       "</style>\n",
       "<table border=\"1\" class=\"dataframe\">\n",
       "  <thead>\n",
       "    <tr style=\"text-align: right;\">\n",
       "      <th></th>\n",
       "      <th>Topic Num</th>\n",
       "      <th>Num Documents</th>\n",
       "    </tr>\n",
       "  </thead>\n",
       "  <tbody>\n",
       "    <tr>\n",
       "      <th>0</th>\n",
       "      <td>0</td>\n",
       "      <td>193</td>\n",
       "    </tr>\n",
       "    <tr>\n",
       "      <th>1</th>\n",
       "      <td>4</td>\n",
       "      <td>113</td>\n",
       "    </tr>\n",
       "    <tr>\n",
       "      <th>2</th>\n",
       "      <td>7</td>\n",
       "      <td>111</td>\n",
       "    </tr>\n",
       "    <tr>\n",
       "      <th>3</th>\n",
       "      <td>1</td>\n",
       "      <td>101</td>\n",
       "    </tr>\n",
       "    <tr>\n",
       "      <th>4</th>\n",
       "      <td>5</td>\n",
       "      <td>85</td>\n",
       "    </tr>\n",
       "    <tr>\n",
       "      <th>5</th>\n",
       "      <td>2</td>\n",
       "      <td>79</td>\n",
       "    </tr>\n",
       "    <tr>\n",
       "      <th>6</th>\n",
       "      <td>6</td>\n",
       "      <td>60</td>\n",
       "    </tr>\n",
       "    <tr>\n",
       "      <th>7</th>\n",
       "      <td>3</td>\n",
       "      <td>54</td>\n",
       "    </tr>\n",
       "  </tbody>\n",
       "</table>\n",
       "</div>"
      ],
      "text/plain": [
       "   Topic Num  Num Documents\n",
       "0          0            193\n",
       "1          4            113\n",
       "2          7            111\n",
       "3          1            101\n",
       "4          5             85\n",
       "5          2             79\n",
       "6          6             60\n",
       "7          3             54"
      ]
     },
     "execution_count": 16,
     "metadata": {},
     "output_type": "execute_result"
    }
   ],
   "source": [
    "df_topic_distribution = df_document_topic['dominant_topic'].value_counts().reset_index(name=\"Num Documents\")\n",
    "df_topic_distribution.columns = ['Topic Num', 'Num Documents']\n",
    "df_topic_distribution"
   ]
  },
  {
   "cell_type": "code",
   "execution_count": 17,
   "id": "d809fbfd",
   "metadata": {},
   "outputs": [],
   "source": [
    "result_data.to_csv('data/青桔单车_data.csv',encoding='utf_8_sig')"
   ]
  },
  {
   "cell_type": "code",
   "execution_count": null,
   "id": "ef5632a1",
   "metadata": {},
   "outputs": [],
   "source": []
  }
 ],
 "metadata": {
  "kernelspec": {
   "display_name": "Python 3 (ipykernel)",
   "language": "python",
   "name": "python3"
  },
  "language_info": {
   "codemirror_mode": {
    "name": "ipython",
    "version": 3
   },
   "file_extension": ".py",
   "mimetype": "text/x-python",
   "name": "python",
   "nbconvert_exporter": "python",
   "pygments_lexer": "ipython3",
   "version": "3.8.12"
  }
 },
 "nbformat": 4,
 "nbformat_minor": 5
}
